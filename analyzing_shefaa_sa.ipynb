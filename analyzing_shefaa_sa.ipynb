{
 "cells": [
  {
   "cell_type": "code",
   "execution_count": 54,
   "metadata": {
    "ExecuteTime": {
     "end_time": "2022-12-09T09:28:25.290900Z",
     "start_time": "2022-12-09T09:28:24.590035Z"
    }
   },
   "outputs": [],
   "source": [
    "import pandas as pd\n",
    "from matplotlib import pyplot as plt\n",
    "%matplotlib inline"
   ]
  },
  {
   "cell_type": "code",
   "execution_count": 55,
   "metadata": {
    "ExecuteTime": {
     "end_time": "2022-12-09T09:28:27.897521Z",
     "start_time": "2022-12-09T09:28:25.294873Z"
    }
   },
   "outputs": [
    {
     "data": {
      "text/html": [
       "<div>\n",
       "<style scoped>\n",
       "    .dataframe tbody tr th:only-of-type {\n",
       "        vertical-align: middle;\n",
       "    }\n",
       "\n",
       "    .dataframe tbody tr th {\n",
       "        vertical-align: top;\n",
       "    }\n",
       "\n",
       "    .dataframe thead th {\n",
       "        text-align: right;\n",
       "    }\n",
       "</style>\n",
       "<table border=\"1\" class=\"dataframe\">\n",
       "  <thead>\n",
       "    <tr style=\"text-align: right;\">\n",
       "      <th></th>\n",
       "      <th>رقم الحالة</th>\n",
       "      <th>التخصص</th>\n",
       "      <th>المنطقة</th>\n",
       "      <th>وصف الحالة</th>\n",
       "    </tr>\n",
       "  </thead>\n",
       "  <tbody>\n",
       "    <tr>\n",
       "      <td>0</td>\n",
       "      <td>#235</td>\n",
       "      <td>أمراض العيون</td>\n",
       "      <td>حائل</td>\n",
       "      <td>رجل بحالة مادية صعبة جدا يعاني من وجود المياه ...</td>\n",
       "    </tr>\n",
       "    <tr>\n",
       "      <td>1</td>\n",
       "      <td>#463</td>\n",
       "      <td>الجراحة العامة</td>\n",
       "      <td>حائل</td>\n",
       "      <td>فتاة في مقتبل العمر تشكو من السمنة المفرطة الت...</td>\n",
       "    </tr>\n",
       "    <tr>\n",
       "      <td>2</td>\n",
       "      <td>#505</td>\n",
       "      <td>أمراض الكلى و المسالك البولية</td>\n",
       "      <td>حائل</td>\n",
       "      <td>أب لأسرة من ٦ أفراد من ذوي الدخل المحدود يعاني...</td>\n",
       "    </tr>\n",
       "    <tr>\n",
       "      <td>3</td>\n",
       "      <td>#506</td>\n",
       "      <td>أمراض الكلى و المسالك البولية</td>\n",
       "      <td>حائل</td>\n",
       "      <td>رب أسرة بدخل مادي ضعيف يعاني المريض من فشل كلو...</td>\n",
       "    </tr>\n",
       "    <tr>\n",
       "      <td>4</td>\n",
       "      <td>#507</td>\n",
       "      <td>أمراض الأنف و الأذن و الحنجرة</td>\n",
       "      <td>حائل</td>\n",
       "      <td>NaN</td>\n",
       "    </tr>\n",
       "  </tbody>\n",
       "</table>\n",
       "</div>"
      ],
      "text/plain": [
       "  رقم الحالة                         التخصص                       المنطقة  \\\n",
       "0       #235                   أمراض العيون                          حائل   \n",
       "1       #463                 الجراحة العامة                          حائل   \n",
       "2       #505  أمراض الكلى و المسالك البولية                          حائل   \n",
       "3       #506  أمراض الكلى و المسالك البولية                          حائل   \n",
       "4       #507  أمراض الأنف و الأذن و الحنجرة                          حائل   \n",
       "\n",
       "                                          وصف الحالة  \n",
       "0  رجل بحالة مادية صعبة جدا يعاني من وجود المياه ...  \n",
       "1  فتاة في مقتبل العمر تشكو من السمنة المفرطة الت...  \n",
       "2  أب لأسرة من ٦ أفراد من ذوي الدخل المحدود يعاني...  \n",
       "3  رب أسرة بدخل مادي ضعيف يعاني المريض من فشل كلو...  \n",
       "4                                                NaN  "
      ]
     },
     "execution_count": 55,
     "metadata": {},
     "output_type": "execute_result"
    }
   ],
   "source": [
    "# importing data\n",
    "df = pd.read_csv('D:/data_analysis/webscraping/shefa-sa.com/data_final_12.csv',encoding='utf-8')\n",
    "df.head()"
   ]
  },
  {
   "cell_type": "code",
   "execution_count": 56,
   "metadata": {
    "ExecuteTime": {
     "end_time": "2022-12-09T09:28:28.334998Z",
     "start_time": "2022-12-09T09:28:27.912515Z"
    }
   },
   "outputs": [
    {
     "name": "stdout",
     "output_type": "stream",
     "text": [
      "<class 'pandas.core.frame.DataFrame'>\n",
      "RangeIndex: 2844 entries, 0 to 2843\n",
      "Data columns (total 4 columns):\n",
      "رقم الحالة    2844 non-null object\n",
      "التخصص        2844 non-null object\n",
      "المنطقة       2844 non-null object\n",
      "وصف الحالة    2690 non-null object\n",
      "dtypes: object(4)\n",
      "memory usage: 44.5+ KB\n"
     ]
    }
   ],
   "source": [
    "df.info()"
   ]
  },
  {
   "cell_type": "code",
   "execution_count": 57,
   "metadata": {
    "ExecuteTime": {
     "end_time": "2022-12-09T09:28:29.212062Z",
     "start_time": "2022-12-09T09:28:28.341993Z"
    }
   },
   "outputs": [
    {
     "data": {
      "text/html": [
       "<div>\n",
       "<style scoped>\n",
       "    .dataframe tbody tr th:only-of-type {\n",
       "        vertical-align: middle;\n",
       "    }\n",
       "\n",
       "    .dataframe tbody tr th {\n",
       "        vertical-align: top;\n",
       "    }\n",
       "\n",
       "    .dataframe thead th {\n",
       "        text-align: right;\n",
       "    }\n",
       "</style>\n",
       "<table border=\"1\" class=\"dataframe\">\n",
       "  <thead>\n",
       "    <tr style=\"text-align: right;\">\n",
       "      <th></th>\n",
       "      <th>رقم الحالة</th>\n",
       "      <th>التخصص</th>\n",
       "      <th>المنطقة</th>\n",
       "      <th>وصف الحالة</th>\n",
       "    </tr>\n",
       "  </thead>\n",
       "  <tbody>\n",
       "    <tr>\n",
       "      <td>count</td>\n",
       "      <td>2844</td>\n",
       "      <td>2844</td>\n",
       "      <td>2844</td>\n",
       "      <td>2690</td>\n",
       "    </tr>\n",
       "    <tr>\n",
       "      <td>unique</td>\n",
       "      <td>2844</td>\n",
       "      <td>16</td>\n",
       "      <td>13</td>\n",
       "      <td>2689</td>\n",
       "    </tr>\n",
       "    <tr>\n",
       "      <td>top</td>\n",
       "      <td>#3335</td>\n",
       "      <td>أمراض الكلى و المسالك البولية</td>\n",
       "      <td>الرياض</td>\n",
       "      <td>السهم التاسع للوقف النقدي التابع لصندوق الوقف ...</td>\n",
       "    </tr>\n",
       "    <tr>\n",
       "      <td>freq</td>\n",
       "      <td>1</td>\n",
       "      <td>687</td>\n",
       "      <td>730</td>\n",
       "      <td>2</td>\n",
       "    </tr>\n",
       "  </tbody>\n",
       "</table>\n",
       "</div>"
      ],
      "text/plain": [
       "       رقم الحالة                         التخصص  \\\n",
       "count        2844                           2844   \n",
       "unique       2844                             16   \n",
       "top         #3335  أمراض الكلى و المسالك البولية   \n",
       "freq            1                            687   \n",
       "\n",
       "                               المنطقة  \\\n",
       "count                             2844   \n",
       "unique                              13   \n",
       "top                             الرياض   \n",
       "freq                               730   \n",
       "\n",
       "                                               وصف الحالة  \n",
       "count                                                2690  \n",
       "unique                                               2689  \n",
       "top     السهم التاسع للوقف النقدي التابع لصندوق الوقف ...  \n",
       "freq                                                    2  "
      ]
     },
     "execution_count": 57,
     "metadata": {},
     "output_type": "execute_result"
    }
   ],
   "source": [
    "df.describe()"
   ]
  },
  {
   "cell_type": "code",
   "execution_count": 58,
   "metadata": {
    "ExecuteTime": {
     "end_time": "2022-12-09T09:28:29.705548Z",
     "start_time": "2022-12-09T09:28:29.225041Z"
    }
   },
   "outputs": [],
   "source": [
    "cases_by_region = df.groupby('المنطقة').count()"
   ]
  },
  {
   "cell_type": "code",
   "execution_count": 59,
   "metadata": {
    "ExecuteTime": {
     "end_time": "2022-12-09T09:28:29.732509Z",
     "start_time": "2022-12-09T09:28:29.713519Z"
    }
   },
   "outputs": [],
   "source": [
    "cases_by_region = pd.DataFrame(cases_by_region['رقم الحالة'])"
   ]
  },
  {
   "cell_type": "code",
   "execution_count": 60,
   "metadata": {
    "ExecuteTime": {
     "end_time": "2022-12-09T09:28:30.004977Z",
     "start_time": "2022-12-09T09:28:29.745501Z"
    }
   },
   "outputs": [
    {
     "data": {
      "text/html": [
       "<div>\n",
       "<style scoped>\n",
       "    .dataframe tbody tr th:only-of-type {\n",
       "        vertical-align: middle;\n",
       "    }\n",
       "\n",
       "    .dataframe tbody tr th {\n",
       "        vertical-align: top;\n",
       "    }\n",
       "\n",
       "    .dataframe thead th {\n",
       "        text-align: right;\n",
       "    }\n",
       "</style>\n",
       "<table border=\"1\" class=\"dataframe\">\n",
       "  <thead>\n",
       "    <tr style=\"text-align: right;\">\n",
       "      <th></th>\n",
       "      <th>رقم الحالة</th>\n",
       "    </tr>\n",
       "    <tr>\n",
       "      <th>المنطقة</th>\n",
       "      <th></th>\n",
       "    </tr>\n",
       "  </thead>\n",
       "  <tbody>\n",
       "    <tr>\n",
       "      <td>الباحة</td>\n",
       "      <td>41</td>\n",
       "    </tr>\n",
       "    <tr>\n",
       "      <td>الجوف</td>\n",
       "      <td>119</td>\n",
       "    </tr>\n",
       "    <tr>\n",
       "      <td>الحدود الشمالية</td>\n",
       "      <td>63</td>\n",
       "    </tr>\n",
       "    <tr>\n",
       "      <td>الرياض</td>\n",
       "      <td>730</td>\n",
       "    </tr>\n",
       "    <tr>\n",
       "      <td>القصيم</td>\n",
       "      <td>65</td>\n",
       "    </tr>\n",
       "    <tr>\n",
       "      <td>المدينة المنورة</td>\n",
       "      <td>454</td>\n",
       "    </tr>\n",
       "    <tr>\n",
       "      <td>المنطقة الشرقية</td>\n",
       "      <td>132</td>\n",
       "    </tr>\n",
       "    <tr>\n",
       "      <td>تبوك</td>\n",
       "      <td>1</td>\n",
       "    </tr>\n",
       "    <tr>\n",
       "      <td>جازان</td>\n",
       "      <td>526</td>\n",
       "    </tr>\n",
       "    <tr>\n",
       "      <td>حائل</td>\n",
       "      <td>106</td>\n",
       "    </tr>\n",
       "    <tr>\n",
       "      <td>عسير</td>\n",
       "      <td>169</td>\n",
       "    </tr>\n",
       "    <tr>\n",
       "      <td>مكة المكرمة</td>\n",
       "      <td>406</td>\n",
       "    </tr>\n",
       "    <tr>\n",
       "      <td>نجران</td>\n",
       "      <td>32</td>\n",
       "    </tr>\n",
       "  </tbody>\n",
       "</table>\n",
       "</div>"
      ],
      "text/plain": [
       "                                         رقم الحالة\n",
       "المنطقة                                            \n",
       "                        الباحة                   41\n",
       "                        الجوف                   119\n",
       "                        الحدود الشمالية          63\n",
       "                        الرياض                  730\n",
       "                        القصيم                   65\n",
       "                        المدينة المنورة         454\n",
       "                        المنطقة الشرقية         132\n",
       "                        تبوك                      1\n",
       "                        جازان                   526\n",
       "                        حائل                    106\n",
       "                        عسير                    169\n",
       "                        مكة المكرمة             406\n",
       "                        نجران                    32"
      ]
     },
     "execution_count": 60,
     "metadata": {},
     "output_type": "execute_result"
    }
   ],
   "source": [
    "cases_by_region"
   ]
  },
  {
   "cell_type": "code",
   "execution_count": 61,
   "metadata": {
    "ExecuteTime": {
     "end_time": "2022-12-09T09:28:30.374267Z",
     "start_time": "2022-12-09T09:28:30.323300Z"
    }
   },
   "outputs": [],
   "source": [
    "cases_by_region.rename(columns={'رقم الحالة':'عدد الحالات'}, inplace=True)"
   ]
  },
  {
   "cell_type": "code",
   "execution_count": 62,
   "metadata": {
    "ExecuteTime": {
     "end_time": "2022-12-09T09:28:54.178847Z",
     "start_time": "2022-12-09T09:28:50.018660Z"
    }
   },
   "outputs": [
    {
     "data": {
      "text/plain": [
       "<matplotlib.axes._subplots.AxesSubplot at 0x12ef7a50>"
      ]
     },
     "execution_count": 62,
     "metadata": {},
     "output_type": "execute_result"
    },
    {
     "data": {
      "image/png": "[encoded data removed]",
      "text/plain": [
       "<Figure size 432x288 with 1 Axes>"
      ]
     },
     "metadata": {
      "needs_background": "light"
     },
     "output_type": "display_data"
    }
   ],
   "source": [
    "cases_by_region.plot(kind='bar')"
   ]
  },
  {
   "cell_type": "code",
   "execution_count": 63,
   "metadata": {
    "ExecuteTime": {
     "end_time": "2022-12-09T09:28:54.205828Z",
     "start_time": "2022-12-09T09:28:54.182846Z"
    }
   },
   "outputs": [],
   "source": [
    "regions = [x.strip() for x in cases_by_region.index]\n",
    "cases_count = cases_by_region['عدد الحالات']"
   ]
  },
  {
   "cell_type": "code",
   "execution_count": 64,
   "metadata": {
    "ExecuteTime": {
     "end_time": "2022-12-09T09:28:54.402810Z",
     "start_time": "2022-12-09T09:28:54.211825Z"
    }
   },
   "outputs": [
    {
     "data": {
      "text/plain": [
       "['الباحة',\n",
       " 'الجوف',\n",
       " 'الحدود الشمالية',\n",
       " 'الرياض',\n",
       " 'القصيم',\n",
       " 'المدينة المنورة',\n",
       " 'المنطقة الشرقية',\n",
       " 'تبوك',\n",
       " 'جازان',\n",
       " 'حائل',\n",
       " 'عسير',\n",
       " 'مكة المكرمة',\n",
       " 'نجران']"
      ]
     },
     "execution_count": 64,
     "metadata": {},
     "output_type": "execute_result"
    }
   ],
   "source": [
    "regions"
   ]
  },
  {
   "cell_type": "code",
   "execution_count": 65,
   "metadata": {
    "ExecuteTime": {
     "end_time": "2022-12-09T09:28:54.645801Z",
     "start_time": "2022-12-09T09:28:54.412805Z"
    }
   },
   "outputs": [
    {
     "data": {
      "text/plain": [
       "730"
      ]
     },
     "execution_count": 65,
     "metadata": {},
     "output_type": "execute_result"
    }
   ],
   "source": [
    "cases_count.max()"
   ]
  },
  {
   "cell_type": "code",
   "execution_count": 70,
   "metadata": {
    "ExecuteTime": {
     "end_time": "2022-12-09T09:29:45.290551Z",
     "start_time": "2022-12-09T09:29:45.282556Z"
    }
   },
   "outputs": [],
   "source": [
    "# Getting the highest cases_count\n",
    "sorted_cases_count = cases_by_region.sort_values(by='عدد الحالات',ascending=False)"
   ]
  },
  {
   "cell_type": "code",
   "execution_count": 71,
   "metadata": {
    "ExecuteTime": {
     "end_time": "2022-12-09T09:29:46.577827Z",
     "start_time": "2022-12-09T09:29:45.821115Z"
    }
   },
   "outputs": [
    {
     "data": {
      "image/png": "[encoded data removed]",
      "text/plain": [
       "<Figure size 432x288 with 1 Axes>"
      ]
     },
     "metadata": {
      "needs_background": "light"
     },
     "output_type": "display_data"
    }
   ],
   "source": [
    "sorted_cases_count.plot(kind='bar')\n",
    "plt.show()"
   ]
  },
  {
   "cell_type": "code",
   "execution_count": 73,
   "metadata": {
    "ExecuteTime": {
     "end_time": "2022-12-09T09:30:16.745171Z",
     "start_time": "2022-12-09T09:30:16.733180Z"
    }
   },
   "outputs": [
    {
     "data": {
      "text/html": [
       "<div>\n",
       "<style scoped>\n",
       "    .dataframe tbody tr th:only-of-type {\n",
       "        vertical-align: middle;\n",
       "    }\n",
       "\n",
       "    .dataframe tbody tr th {\n",
       "        vertical-align: top;\n",
       "    }\n",
       "\n",
       "    .dataframe thead th {\n",
       "        text-align: right;\n",
       "    }\n",
       "</style>\n",
       "<table border=\"1\" class=\"dataframe\">\n",
       "  <thead>\n",
       "    <tr style=\"text-align: right;\">\n",
       "      <th></th>\n",
       "      <th>عدد الحالات</th>\n",
       "    </tr>\n",
       "    <tr>\n",
       "      <th>المنطقة</th>\n",
       "      <th></th>\n",
       "    </tr>\n",
       "  </thead>\n",
       "  <tbody>\n",
       "    <tr>\n",
       "      <td>الرياض</td>\n",
       "      <td>730</td>\n",
       "    </tr>\n",
       "  </tbody>\n",
       "</table>\n",
       "</div>"
      ],
      "text/plain": [
       "                                عدد الحالات\n",
       "المنطقة                                    \n",
       "                        الرياض          730"
      ]
     },
     "execution_count": 73,
     "metadata": {},
     "output_type": "execute_result"
    }
   ],
   "source": [
    "# the heighst cases count\n",
    "sorted_cases_count.head(1)"
   ]
  },
  {
   "cell_type": "code",
   "execution_count": 75,
   "metadata": {
    "ExecuteTime": {
     "end_time": "2022-12-09T09:30:42.632206Z",
     "start_time": "2022-12-09T09:30:42.620209Z"
    }
   },
   "outputs": [
    {
     "data": {
      "text/html": [
       "<div>\n",
       "<style scoped>\n",
       "    .dataframe tbody tr th:only-of-type {\n",
       "        vertical-align: middle;\n",
       "    }\n",
       "\n",
       "    .dataframe tbody tr th {\n",
       "        vertical-align: top;\n",
       "    }\n",
       "\n",
       "    .dataframe thead th {\n",
       "        text-align: right;\n",
       "    }\n",
       "</style>\n",
       "<table border=\"1\" class=\"dataframe\">\n",
       "  <thead>\n",
       "    <tr style=\"text-align: right;\">\n",
       "      <th></th>\n",
       "      <th>عدد الحالات</th>\n",
       "    </tr>\n",
       "    <tr>\n",
       "      <th>المنطقة</th>\n",
       "      <th></th>\n",
       "    </tr>\n",
       "  </thead>\n",
       "  <tbody>\n",
       "    <tr>\n",
       "      <td>تبوك</td>\n",
       "      <td>1</td>\n",
       "    </tr>\n",
       "  </tbody>\n",
       "</table>\n",
       "</div>"
      ],
      "text/plain": [
       "                              عدد الحالات\n",
       "المنطقة                                  \n",
       "                        تبوك            1"
      ]
     },
     "execution_count": 75,
     "metadata": {},
     "output_type": "execute_result"
    }
   ],
   "source": [
    "# lowest cases count\n",
    "sorted_cases_count.tail(1)"
   ]
  },
  {
   "cell_type": "code",
   "execution_count": 76,
   "metadata": {
    "ExecuteTime": {
     "end_time": "2022-12-09T09:30:49.841153Z",
     "start_time": "2022-12-09T09:30:49.819166Z"
    }
   },
   "outputs": [
    {
     "data": {
      "text/plain": [
       "عدد الحالات    218.769231\n",
       "dtype: float64"
      ]
     },
     "execution_count": 76,
     "metadata": {},
     "output_type": "execute_result"
    }
   ],
   "source": [
    "# average by region\n",
    "cases_by_region.mean()"
   ]
  },
  {
   "cell_type": "code",
   "execution_count": 116,
   "metadata": {
    "ExecuteTime": {
     "end_time": "2022-12-09T10:15:09.590839Z",
     "start_time": "2022-12-09T10:15:09.578846Z"
    }
   },
   "outputs": [],
   "source": [
    "cases_by_spec = df.groupby('التخصص')['رقم الحالة'].count()\n",
    "specializations_info = pd.DataFrame(cases_by_spec)"
   ]
  },
  {
   "cell_type": "code",
   "execution_count": 121,
   "metadata": {
    "ExecuteTime": {
     "end_time": "2022-12-09T10:16:01.880856Z",
     "start_time": "2022-12-09T10:16:01.865866Z"
    }
   },
   "outputs": [
    {
     "data": {
      "text/html": [
       "<div>\n",
       "<style scoped>\n",
       "    .dataframe tbody tr th:only-of-type {\n",
       "        vertical-align: middle;\n",
       "    }\n",
       "\n",
       "    .dataframe tbody tr th {\n",
       "        vertical-align: top;\n",
       "    }\n",
       "\n",
       "    .dataframe thead th {\n",
       "        text-align: right;\n",
       "    }\n",
       "</style>\n",
       "<table border=\"1\" class=\"dataframe\">\n",
       "  <thead>\n",
       "    <tr style=\"text-align: right;\">\n",
       "      <th></th>\n",
       "      <th>عدد الحالات</th>\n",
       "    </tr>\n",
       "    <tr>\n",
       "      <th>التخصص</th>\n",
       "      <th></th>\n",
       "    </tr>\n",
       "  </thead>\n",
       "  <tbody>\n",
       "    <tr>\n",
       "      <td>أمراض الكلى و المسالك البولية</td>\n",
       "      <td>687</td>\n",
       "    </tr>\n",
       "    <tr>\n",
       "      <td>أمراض العيون</td>\n",
       "      <td>578</td>\n",
       "    </tr>\n",
       "    <tr>\n",
       "      <td>الجراحة العامة</td>\n",
       "      <td>358</td>\n",
       "    </tr>\n",
       "    <tr>\n",
       "      <td>أمراض النساء و الولادة</td>\n",
       "      <td>344</td>\n",
       "    </tr>\n",
       "    <tr>\n",
       "      <td>أمراض الدم و الأورام</td>\n",
       "      <td>234</td>\n",
       "    </tr>\n",
       "    <tr>\n",
       "      <td>أمراض العظام و المفاصل</td>\n",
       "      <td>165</td>\n",
       "    </tr>\n",
       "    <tr>\n",
       "      <td>ادوية علاجية</td>\n",
       "      <td>125</td>\n",
       "    </tr>\n",
       "    <tr>\n",
       "      <td>اجهزة طبية</td>\n",
       "      <td>108</td>\n",
       "    </tr>\n",
       "    <tr>\n",
       "      <td>أمراض الأنف و الأذن و الحنجرة</td>\n",
       "      <td>74</td>\n",
       "    </tr>\n",
       "    <tr>\n",
       "      <td>أمراض القلب</td>\n",
       "      <td>62</td>\n",
       "    </tr>\n",
       "    <tr>\n",
       "      <td>أخرى</td>\n",
       "      <td>51</td>\n",
       "    </tr>\n",
       "    <tr>\n",
       "      <td>أمراض الأطفال</td>\n",
       "      <td>25</td>\n",
       "    </tr>\n",
       "    <tr>\n",
       "      <td>صندوق الوقف الصحي</td>\n",
       "      <td>14</td>\n",
       "    </tr>\n",
       "    <tr>\n",
       "      <td>الأمراض العصبية</td>\n",
       "      <td>13</td>\n",
       "    </tr>\n",
       "    <tr>\n",
       "      <td>أمراض الغدد الصماء و السكري</td>\n",
       "      <td>5</td>\n",
       "    </tr>\n",
       "    <tr>\n",
       "      <td>الأمراض الجلدية</td>\n",
       "      <td>1</td>\n",
       "    </tr>\n",
       "  </tbody>\n",
       "</table>\n",
       "</div>"
      ],
      "text/plain": [
       "                               عدد الحالات\n",
       "التخصص                                    \n",
       "أمراض الكلى و المسالك البولية          687\n",
       "أمراض العيون                           578\n",
       "الجراحة العامة                         358\n",
       "أمراض النساء و الولادة                 344\n",
       "أمراض الدم و الأورام                   234\n",
       "أمراض العظام و المفاصل                 165\n",
       "ادوية علاجية                           125\n",
       "اجهزة طبية                             108\n",
       "أمراض الأنف و الأذن و الحنجرة           74\n",
       "أمراض القلب                             62\n",
       "أخرى                                    51\n",
       "أمراض الأطفال                           25\n",
       "صندوق الوقف الصحي                       14\n",
       "الأمراض العصبية                         13\n",
       "أمراض الغدد الصماء و السكري              5\n",
       "الأمراض الجلدية                          1"
      ]
     },
     "execution_count": 121,
     "metadata": {},
     "output_type": "execute_result"
    }
   ],
   "source": [
    "# specializations_info.rename(columns={'رقم الحالة':'عدد الحالات'})\n",
    "specializations_info = specializations_info.sort_values(by='عدد الحالات',ascending=False)\n",
    "specializations_info"
   ]
  },
  {
   "cell_type": "code",
   "execution_count": 122,
   "metadata": {
    "ExecuteTime": {
     "end_time": "2022-12-09T10:16:14.816169Z",
     "start_time": "2022-12-09T10:16:14.802179Z"
    }
   },
   "outputs": [
    {
     "data": {
      "text/html": [
       "<div>\n",
       "<style scoped>\n",
       "    .dataframe tbody tr th:only-of-type {\n",
       "        vertical-align: middle;\n",
       "    }\n",
       "\n",
       "    .dataframe tbody tr th {\n",
       "        vertical-align: top;\n",
       "    }\n",
       "\n",
       "    .dataframe thead th {\n",
       "        text-align: right;\n",
       "    }\n",
       "</style>\n",
       "<table border=\"1\" class=\"dataframe\">\n",
       "  <thead>\n",
       "    <tr style=\"text-align: right;\">\n",
       "      <th></th>\n",
       "      <th>عدد الحالات</th>\n",
       "    </tr>\n",
       "    <tr>\n",
       "      <th>التخصص</th>\n",
       "      <th></th>\n",
       "    </tr>\n",
       "  </thead>\n",
       "  <tbody>\n",
       "    <tr>\n",
       "      <td>أمراض الكلى و المسالك البولية</td>\n",
       "      <td>687</td>\n",
       "    </tr>\n",
       "  </tbody>\n",
       "</table>\n",
       "</div>"
      ],
      "text/plain": [
       "                               عدد الحالات\n",
       "التخصص                                    \n",
       "أمراض الكلى و المسالك البولية          687"
      ]
     },
     "execution_count": 122,
     "metadata": {},
     "output_type": "execute_result"
    }
   ],
   "source": [
    "# Top specialization cases\n",
    "specializations_info.head(1)"
   ]
  },
  {
   "cell_type": "code",
   "execution_count": 123,
   "metadata": {
    "ExecuteTime": {
     "end_time": "2022-12-09T10:16:36.497912Z",
     "start_time": "2022-12-09T10:16:36.460936Z"
    }
   },
   "outputs": [
    {
     "data": {
      "text/html": [
       "<div>\n",
       "<style scoped>\n",
       "    .dataframe tbody tr th:only-of-type {\n",
       "        vertical-align: middle;\n",
       "    }\n",
       "\n",
       "    .dataframe tbody tr th {\n",
       "        vertical-align: top;\n",
       "    }\n",
       "\n",
       "    .dataframe thead th {\n",
       "        text-align: right;\n",
       "    }\n",
       "</style>\n",
       "<table border=\"1\" class=\"dataframe\">\n",
       "  <thead>\n",
       "    <tr style=\"text-align: right;\">\n",
       "      <th></th>\n",
       "      <th>عدد الحالات</th>\n",
       "    </tr>\n",
       "    <tr>\n",
       "      <th>التخصص</th>\n",
       "      <th></th>\n",
       "    </tr>\n",
       "  </thead>\n",
       "  <tbody>\n",
       "    <tr>\n",
       "      <td>الأمراض الجلدية</td>\n",
       "      <td>1</td>\n",
       "    </tr>\n",
       "  </tbody>\n",
       "</table>\n",
       "</div>"
      ],
      "text/plain": [
       "                 عدد الحالات\n",
       "التخصص                      \n",
       "الأمراض الجلدية            1"
      ]
     },
     "execution_count": 123,
     "metadata": {},
     "output_type": "execute_result"
    }
   ],
   "source": [
    "# least specialization cases\n",
    "specializations_info.tail(1)"
   ]
  },
  {
   "cell_type": "code",
   "execution_count": 124,
   "metadata": {
    "ExecuteTime": {
     "end_time": "2022-12-09T10:17:10.166768Z",
     "start_time": "2022-12-09T10:17:09.428692Z"
    }
   },
   "outputs": [
    {
     "data": {
      "image/png": "[encoded data removed]",
      "text/plain": [
       "<Figure size 432x288 with 1 Axes>"
      ]
     },
     "metadata": {
      "needs_background": "light"
     },
     "output_type": "display_data"
    }
   ],
   "source": [
    "specializations_info.plot(kind='bar')\n",
    "plt.show()"
   ]
  },
  {
   "cell_type": "markdown",
   "metadata": {},
   "source": [
    "## The majority of patients have kidney desease\n",
    "#### Can that be due to salts in water?\n",
    "#### Is there any other factor?"
   ]
  },
  {
   "cell_type": "markdown",
   "metadata": {},
   "source": [
    "# Hypothesis is : There is a linear relationship between the water quality and kidney issues."
   ]
  },
  {
   "cell_type": "code",
   "execution_count": 130,
   "metadata": {
    "ExecuteTime": {
     "end_time": "2022-12-09T10:25:01.424763Z",
     "start_time": "2022-12-09T10:25:01.415768Z"
    }
   },
   "outputs": [],
   "source": [
    "# regions matching kidney desease\n",
    "kidney_cases = df.query('التخصص == \"أمراض الكلى و المسالك البولية\"')"
   ]
  },
  {
   "cell_type": "code",
   "execution_count": 131,
   "metadata": {
    "ExecuteTime": {
     "end_time": "2022-12-09T10:25:02.062274Z",
     "start_time": "2022-12-09T10:25:02.032293Z"
    }
   },
   "outputs": [
    {
     "data": {
      "text/html": [
       "<div>\n",
       "<style scoped>\n",
       "    .dataframe tbody tr th:only-of-type {\n",
       "        vertical-align: middle;\n",
       "    }\n",
       "\n",
       "    .dataframe tbody tr th {\n",
       "        vertical-align: top;\n",
       "    }\n",
       "\n",
       "    .dataframe thead th {\n",
       "        text-align: right;\n",
       "    }\n",
       "</style>\n",
       "<table border=\"1\" class=\"dataframe\">\n",
       "  <thead>\n",
       "    <tr style=\"text-align: right;\">\n",
       "      <th></th>\n",
       "      <th>رقم الحالة</th>\n",
       "      <th>التخصص</th>\n",
       "      <th>المنطقة</th>\n",
       "      <th>وصف الحالة</th>\n",
       "    </tr>\n",
       "  </thead>\n",
       "  <tbody>\n",
       "    <tr>\n",
       "      <td>2</td>\n",
       "      <td>#505</td>\n",
       "      <td>أمراض الكلى و المسالك البولية</td>\n",
       "      <td>حائل</td>\n",
       "      <td>أب لأسرة من ٦ أفراد من ذوي الدخل المحدود يعاني...</td>\n",
       "    </tr>\n",
       "    <tr>\n",
       "      <td>3</td>\n",
       "      <td>#506</td>\n",
       "      <td>أمراض الكلى و المسالك البولية</td>\n",
       "      <td>حائل</td>\n",
       "      <td>رب أسرة بدخل مادي ضعيف يعاني المريض من فشل كلو...</td>\n",
       "    </tr>\n",
       "    <tr>\n",
       "      <td>5</td>\n",
       "      <td>#510</td>\n",
       "      <td>أمراض الكلى و المسالك البولية</td>\n",
       "      <td>حائل</td>\n",
       "      <td>ربة منزل بلا عمل تعاني من فشل كلوي مزمن حاد وا...</td>\n",
       "    </tr>\n",
       "    <tr>\n",
       "      <td>6</td>\n",
       "      <td>#514</td>\n",
       "      <td>أمراض الكلى و المسالك البولية</td>\n",
       "      <td>حائل</td>\n",
       "      <td>سيدة لأسرة من ١٥ فرد بدخل ضعيف جدا تعاني من فش...</td>\n",
       "    </tr>\n",
       "    <tr>\n",
       "      <td>7</td>\n",
       "      <td>#516</td>\n",
       "      <td>أمراض الكلى و المسالك البولية</td>\n",
       "      <td>حائل</td>\n",
       "      <td>فتاة في مقتبل العمر وعائلها الوحيد يعمل بأجر ي...</td>\n",
       "    </tr>\n",
       "    <tr>\n",
       "      <td>...</td>\n",
       "      <td>...</td>\n",
       "      <td>...</td>\n",
       "      <td>...</td>\n",
       "      <td>...</td>\n",
       "    </tr>\n",
       "    <tr>\n",
       "      <td>2820</td>\n",
       "      <td>#4051</td>\n",
       "      <td>أمراض الكلى و المسالك البولية</td>\n",
       "      <td>مكة المكرمة</td>\n",
       "      <td>فتاة في الـ22 من عمرها تعيش مع أسرتها في السعو...</td>\n",
       "    </tr>\n",
       "    <tr>\n",
       "      <td>2835</td>\n",
       "      <td>#4082</td>\n",
       "      <td>أمراض الكلى و المسالك البولية</td>\n",
       "      <td>مكة المكرمة</td>\n",
       "      <td>فتاة تعيش في السعودية مع أسرتها المكونة من 13 ...</td>\n",
       "    </tr>\n",
       "    <tr>\n",
       "      <td>2837</td>\n",
       "      <td>#4084</td>\n",
       "      <td>أمراض الكلى و المسالك البولية</td>\n",
       "      <td>مكة المكرمة</td>\n",
       "      <td>سيدة تعيش في السعودية مع زوجها الذي يعمل بأجر ...</td>\n",
       "    </tr>\n",
       "    <tr>\n",
       "      <td>2840</td>\n",
       "      <td>#4091</td>\n",
       "      <td>أمراض الكلى و المسالك البولية</td>\n",
       "      <td>جازان</td>\n",
       "      <td>سيدة تعيش في السعودية مع زوجها بوضع معيشي سيء ...</td>\n",
       "    </tr>\n",
       "    <tr>\n",
       "      <td>2841</td>\n",
       "      <td>#4092</td>\n",
       "      <td>أمراض الكلى و المسالك البولية</td>\n",
       "      <td>جازان</td>\n",
       "      <td>أم لـ4 أبناء تعيش في السعودية أصيبت بفشل كلوي ...</td>\n",
       "    </tr>\n",
       "  </tbody>\n",
       "</table>\n",
       "<p>687 rows × 4 columns</p>\n",
       "</div>"
      ],
      "text/plain": [
       "     رقم الحالة                         التخصص  \\\n",
       "2          #505  أمراض الكلى و المسالك البولية   \n",
       "3          #506  أمراض الكلى و المسالك البولية   \n",
       "5          #510  أمراض الكلى و المسالك البولية   \n",
       "6          #514  أمراض الكلى و المسالك البولية   \n",
       "7          #516  أمراض الكلى و المسالك البولية   \n",
       "...         ...                            ...   \n",
       "2820      #4051  أمراض الكلى و المسالك البولية   \n",
       "2835      #4082  أمراض الكلى و المسالك البولية   \n",
       "2837      #4084  أمراض الكلى و المسالك البولية   \n",
       "2840      #4091  أمراض الكلى و المسالك البولية   \n",
       "2841      #4092  أمراض الكلى و المسالك البولية   \n",
       "\n",
       "                                  المنطقة  \\\n",
       "2                                    حائل   \n",
       "3                                    حائل   \n",
       "5                                    حائل   \n",
       "6                                    حائل   \n",
       "7                                    حائل   \n",
       "...                                   ...   \n",
       "2820                          مكة المكرمة   \n",
       "2835                          مكة المكرمة   \n",
       "2837                          مكة المكرمة   \n",
       "2840                                جازان   \n",
       "2841                                جازان   \n",
       "\n",
       "                                             وصف الحالة  \n",
       "2     أب لأسرة من ٦ أفراد من ذوي الدخل المحدود يعاني...  \n",
       "3     رب أسرة بدخل مادي ضعيف يعاني المريض من فشل كلو...  \n",
       "5     ربة منزل بلا عمل تعاني من فشل كلوي مزمن حاد وا...  \n",
       "6     سيدة لأسرة من ١٥ فرد بدخل ضعيف جدا تعاني من فش...  \n",
       "7     فتاة في مقتبل العمر وعائلها الوحيد يعمل بأجر ي...  \n",
       "...                                                 ...  \n",
       "2820  فتاة في الـ22 من عمرها تعيش مع أسرتها في السعو...  \n",
       "2835  فتاة تعيش في السعودية مع أسرتها المكونة من 13 ...  \n",
       "2837  سيدة تعيش في السعودية مع زوجها الذي يعمل بأجر ...  \n",
       "2840  سيدة تعيش في السعودية مع زوجها بوضع معيشي سيء ...  \n",
       "2841  أم لـ4 أبناء تعيش في السعودية أصيبت بفشل كلوي ...  \n",
       "\n",
       "[687 rows x 4 columns]"
      ]
     },
     "execution_count": 131,
     "metadata": {},
     "output_type": "execute_result"
    }
   ],
   "source": [
    "kidney_cases"
   ]
  },
  {
   "cell_type": "code",
   "execution_count": 138,
   "metadata": {
    "ExecuteTime": {
     "end_time": "2022-12-09T10:30:01.746501Z",
     "start_time": "2022-12-09T10:30:01.734506Z"
    }
   },
   "outputs": [],
   "source": [
    "kidney_cases_by_region = pd.DataFrame(kidney_cases.groupby('المنطقة').count()['رقم الحالة'])"
   ]
  },
  {
   "cell_type": "code",
   "execution_count": 139,
   "metadata": {
    "ExecuteTime": {
     "end_time": "2022-12-09T10:30:02.674807Z",
     "start_time": "2022-12-09T10:30:02.661815Z"
    }
   },
   "outputs": [
    {
     "data": {
      "text/html": [
       "<div>\n",
       "<style scoped>\n",
       "    .dataframe tbody tr th:only-of-type {\n",
       "        vertical-align: middle;\n",
       "    }\n",
       "\n",
       "    .dataframe tbody tr th {\n",
       "        vertical-align: top;\n",
       "    }\n",
       "\n",
       "    .dataframe thead th {\n",
       "        text-align: right;\n",
       "    }\n",
       "</style>\n",
       "<table border=\"1\" class=\"dataframe\">\n",
       "  <thead>\n",
       "    <tr style=\"text-align: right;\">\n",
       "      <th></th>\n",
       "      <th>رقم الحالة</th>\n",
       "    </tr>\n",
       "    <tr>\n",
       "      <th>المنطقة</th>\n",
       "      <th></th>\n",
       "    </tr>\n",
       "  </thead>\n",
       "  <tbody>\n",
       "    <tr>\n",
       "      <td>الباحة</td>\n",
       "      <td>1</td>\n",
       "    </tr>\n",
       "    <tr>\n",
       "      <td>الجوف</td>\n",
       "      <td>3</td>\n",
       "    </tr>\n",
       "    <tr>\n",
       "      <td>الحدود الشمالية</td>\n",
       "      <td>7</td>\n",
       "    </tr>\n",
       "    <tr>\n",
       "      <td>الرياض</td>\n",
       "      <td>247</td>\n",
       "    </tr>\n",
       "    <tr>\n",
       "      <td>القصيم</td>\n",
       "      <td>34</td>\n",
       "    </tr>\n",
       "    <tr>\n",
       "      <td>المدينة المنورة</td>\n",
       "      <td>111</td>\n",
       "    </tr>\n",
       "    <tr>\n",
       "      <td>المنطقة الشرقية</td>\n",
       "      <td>11</td>\n",
       "    </tr>\n",
       "    <tr>\n",
       "      <td>جازان</td>\n",
       "      <td>30</td>\n",
       "    </tr>\n",
       "    <tr>\n",
       "      <td>حائل</td>\n",
       "      <td>43</td>\n",
       "    </tr>\n",
       "    <tr>\n",
       "      <td>عسير</td>\n",
       "      <td>53</td>\n",
       "    </tr>\n",
       "    <tr>\n",
       "      <td>مكة المكرمة</td>\n",
       "      <td>147</td>\n",
       "    </tr>\n",
       "  </tbody>\n",
       "</table>\n",
       "</div>"
      ],
      "text/plain": [
       "                                         رقم الحالة\n",
       "المنطقة                                            \n",
       "                        الباحة                    1\n",
       "                        الجوف                     3\n",
       "                        الحدود الشمالية           7\n",
       "                        الرياض                  247\n",
       "                        القصيم                   34\n",
       "                        المدينة المنورة         111\n",
       "                        المنطقة الشرقية          11\n",
       "                        جازان                    30\n",
       "                        حائل                     43\n",
       "                        عسير                     53\n",
       "                        مكة المكرمة             147"
      ]
     },
     "execution_count": 139,
     "metadata": {},
     "output_type": "execute_result"
    }
   ],
   "source": [
    "kidney_cases_by_region"
   ]
  },
  {
   "cell_type": "markdown",
   "metadata": {},
   "source": [
    "# Consider Reyadh\n",
    "### There are 247 cases in Reyadh of Kidney cases.\n",
    "#### Back to the water index quality research held by Abdulrasoul Al-Omran; Fahad Al-Barakah; Abdullah Altuquq; Anwar Aly; Mahmoud Nadeem\n",
    "#### Link to research: https://iwaponline.com/wqrj/article/50/3/287/21614/Drinking-water-quality-assessment-and-water\n",
    "* One hundred and eighty drinking water samples were collected from five zones of Riyadh governorate including Riyadh main zone, Ulia, Nassim, Shifa, and Badiah zones. The water was collected from the main water network and underground and upper household tanks in each zone. The water quality was found to be acceptable for drinking with respect to chemical characteristics; however, analyses exhibited some microbial contamination. The water quality index (WQI) is a mathematical method used to facilitate water quality explanation. The WQI was calculated using several physico-chemical and microbial parameters. The results showed that more than 88% of Riyadh main zone, 91% of Ulia, 97% of Nassim, 88% of Shifa, and 100% of Badiah waters zones were considered excellent for drinking (class I). The remaining waters were considered unsuitable for drinking (class V) due to microbial contamination."
   ]
  },
  {
   "cell_type": "markdown",
   "metadata": {},
   "source": [
    "## Based on the previous article The majority of Reyadh zones have classI water quality index. So, it must be other factors for those kidney cases."
   ]
  },
  {
   "cell_type": "code",
   "execution_count": null,
   "metadata": {},
   "outputs": [],
   "source": []
  }
 ],
 "metadata": {
  "kernelspec": {
   "display_name": "Python 3",
   "language": "python",
   "name": "python3"
  },
  "language_info": {
   "codemirror_mode": {
    "name": "ipython",
    "version": 3
   },
   "file_extension": ".py",
   "mimetype": "text/x-python",
   "name": "python",
   "nbconvert_exporter": "python",
   "pygments_lexer": "ipython3",
   "version": "3.7.4"
  }
 },
 "nbformat": 4,
 "nbformat_minor": 2
}
